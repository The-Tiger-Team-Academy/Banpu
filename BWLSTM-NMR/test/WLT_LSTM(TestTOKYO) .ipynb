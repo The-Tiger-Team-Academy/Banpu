{
 "cells": [
  {
   "cell_type": "code",
   "execution_count": 1,
   "metadata": {},
   "outputs": [
    {
     "data": {
      "text/html": [
       "<div>\n",
       "<style scoped>\n",
       "    .dataframe tbody tr th:only-of-type {\n",
       "        vertical-align: middle;\n",
       "    }\n",
       "\n",
       "    .dataframe tbody tr th {\n",
       "        vertical-align: top;\n",
       "    }\n",
       "\n",
       "    .dataframe thead th {\n",
       "        text-align: right;\n",
       "    }\n",
       "</style>\n",
       "<table border=\"1\" class=\"dataframe\">\n",
       "  <thead>\n",
       "    <tr style=\"text-align: right;\">\n",
       "      <th></th>\n",
       "      <th>DATE</th>\n",
       "      <th>IM_TK</th>\n",
       "      <th>DA_TK</th>\n",
       "      <th>DA_SYSTEM_PRICE</th>\n",
       "      <th>DA_TOTAL_VOLUME</th>\n",
       "      <th>DA_BUY_VOLUME</th>\n",
       "      <th>DA_SELL_VOLUME</th>\n",
       "      <th>PRECIPITATION</th>\n",
       "      <th>RADIATION</th>\n",
       "      <th>WIND_DIRECTION</th>\n",
       "      <th>WIND_SPEED</th>\n",
       "      <th>TEMPERATURE</th>\n",
       "      <th>GAS_USD</th>\n",
       "      <th>USD_JPY</th>\n",
       "      <th>GAS_JPY</th>\n",
       "      <th>TTS</th>\n",
       "      <th>TTB</th>\n",
       "      <th>TTM</th>\n",
       "    </tr>\n",
       "  </thead>\n",
       "  <tbody>\n",
       "    <tr>\n",
       "      <th>1440</th>\n",
       "      <td>2022-12-01 00:00:00</td>\n",
       "      <td>21.29</td>\n",
       "      <td>17.00</td>\n",
       "      <td>15.00</td>\n",
       "      <td>18206550</td>\n",
       "      <td>18910950</td>\n",
       "      <td>21768650</td>\n",
       "      <td>0.0</td>\n",
       "      <td>0.0</td>\n",
       "      <td>0.0</td>\n",
       "      <td>3.1</td>\n",
       "      <td>13.5</td>\n",
       "      <td>33.780</td>\n",
       "      <td>137.09</td>\n",
       "      <td>4631.0</td>\n",
       "      <td>138.09</td>\n",
       "      <td>136.09</td>\n",
       "      <td>137.09</td>\n",
       "    </tr>\n",
       "    <tr>\n",
       "      <th>1441</th>\n",
       "      <td>2022-12-01 00:30:00</td>\n",
       "      <td>20.16</td>\n",
       "      <td>17.30</td>\n",
       "      <td>16.00</td>\n",
       "      <td>18290050</td>\n",
       "      <td>19007050</td>\n",
       "      <td>23034450</td>\n",
       "      <td>0.0</td>\n",
       "      <td>0.0</td>\n",
       "      <td>0.0</td>\n",
       "      <td>3.1</td>\n",
       "      <td>13.5</td>\n",
       "      <td>33.780</td>\n",
       "      <td>137.09</td>\n",
       "      <td>4631.0</td>\n",
       "      <td>138.09</td>\n",
       "      <td>136.09</td>\n",
       "      <td>137.09</td>\n",
       "    </tr>\n",
       "    <tr>\n",
       "      <th>1442</th>\n",
       "      <td>2022-12-01 01:00:00</td>\n",
       "      <td>20.55</td>\n",
       "      <td>17.68</td>\n",
       "      <td>17.13</td>\n",
       "      <td>18455950</td>\n",
       "      <td>19238450</td>\n",
       "      <td>24128100</td>\n",
       "      <td>0.0</td>\n",
       "      <td>0.0</td>\n",
       "      <td>292.5</td>\n",
       "      <td>1.4</td>\n",
       "      <td>12.8</td>\n",
       "      <td>33.780</td>\n",
       "      <td>137.09</td>\n",
       "      <td>4631.0</td>\n",
       "      <td>138.09</td>\n",
       "      <td>136.09</td>\n",
       "      <td>137.09</td>\n",
       "    </tr>\n",
       "    <tr>\n",
       "      <th>1443</th>\n",
       "      <td>2022-12-01 01:30:00</td>\n",
       "      <td>20.40</td>\n",
       "      <td>17.76</td>\n",
       "      <td>17.30</td>\n",
       "      <td>18563900</td>\n",
       "      <td>19430500</td>\n",
       "      <td>24383550</td>\n",
       "      <td>0.0</td>\n",
       "      <td>0.0</td>\n",
       "      <td>292.5</td>\n",
       "      <td>1.4</td>\n",
       "      <td>12.8</td>\n",
       "      <td>33.780</td>\n",
       "      <td>137.09</td>\n",
       "      <td>4631.0</td>\n",
       "      <td>138.09</td>\n",
       "      <td>136.09</td>\n",
       "      <td>137.09</td>\n",
       "    </tr>\n",
       "    <tr>\n",
       "      <th>1444</th>\n",
       "      <td>2022-12-01 02:00:00</td>\n",
       "      <td>20.69</td>\n",
       "      <td>17.30</td>\n",
       "      <td>17.30</td>\n",
       "      <td>18622700</td>\n",
       "      <td>19388500</td>\n",
       "      <td>24472700</td>\n",
       "      <td>0.0</td>\n",
       "      <td>0.0</td>\n",
       "      <td>292.5</td>\n",
       "      <td>2.3</td>\n",
       "      <td>12.4</td>\n",
       "      <td>33.780</td>\n",
       "      <td>137.09</td>\n",
       "      <td>4631.0</td>\n",
       "      <td>138.09</td>\n",
       "      <td>136.09</td>\n",
       "      <td>137.09</td>\n",
       "    </tr>\n",
       "    <tr>\n",
       "      <th>...</th>\n",
       "      <td>...</td>\n",
       "      <td>...</td>\n",
       "      <td>...</td>\n",
       "      <td>...</td>\n",
       "      <td>...</td>\n",
       "      <td>...</td>\n",
       "      <td>...</td>\n",
       "      <td>...</td>\n",
       "      <td>...</td>\n",
       "      <td>...</td>\n",
       "      <td>...</td>\n",
       "      <td>...</td>\n",
       "      <td>...</td>\n",
       "      <td>...</td>\n",
       "      <td>...</td>\n",
       "      <td>...</td>\n",
       "      <td>...</td>\n",
       "      <td>...</td>\n",
       "    </tr>\n",
       "    <tr>\n",
       "      <th>2876</th>\n",
       "      <td>2022-12-30 22:00:00</td>\n",
       "      <td>30.01</td>\n",
       "      <td>27.08</td>\n",
       "      <td>28.24</td>\n",
       "      <td>20149150</td>\n",
       "      <td>24616450</td>\n",
       "      <td>23478550</td>\n",
       "      <td>0.0</td>\n",
       "      <td>0.0</td>\n",
       "      <td>315.0</td>\n",
       "      <td>2.3</td>\n",
       "      <td>6.0</td>\n",
       "      <td>29.515</td>\n",
       "      <td>132.70</td>\n",
       "      <td>3917.0</td>\n",
       "      <td>133.70</td>\n",
       "      <td>131.70</td>\n",
       "      <td>132.70</td>\n",
       "    </tr>\n",
       "    <tr>\n",
       "      <th>2877</th>\n",
       "      <td>2022-12-30 22:30:00</td>\n",
       "      <td>29.28</td>\n",
       "      <td>29.10</td>\n",
       "      <td>30.00</td>\n",
       "      <td>19844750</td>\n",
       "      <td>23963450</td>\n",
       "      <td>23026100</td>\n",
       "      <td>0.0</td>\n",
       "      <td>0.0</td>\n",
       "      <td>315.0</td>\n",
       "      <td>2.3</td>\n",
       "      <td>6.0</td>\n",
       "      <td>29.515</td>\n",
       "      <td>132.70</td>\n",
       "      <td>3917.0</td>\n",
       "      <td>133.70</td>\n",
       "      <td>131.70</td>\n",
       "      <td>132.70</td>\n",
       "    </tr>\n",
       "    <tr>\n",
       "      <th>2878</th>\n",
       "      <td>2022-12-30 23:00:00</td>\n",
       "      <td>29.15</td>\n",
       "      <td>25.75</td>\n",
       "      <td>26.83</td>\n",
       "      <td>19701850</td>\n",
       "      <td>23319600</td>\n",
       "      <td>22583050</td>\n",
       "      <td>0.0</td>\n",
       "      <td>0.0</td>\n",
       "      <td>292.5</td>\n",
       "      <td>1.9</td>\n",
       "      <td>5.1</td>\n",
       "      <td>29.515</td>\n",
       "      <td>132.70</td>\n",
       "      <td>3917.0</td>\n",
       "      <td>133.70</td>\n",
       "      <td>131.70</td>\n",
       "      <td>132.70</td>\n",
       "    </tr>\n",
       "    <tr>\n",
       "      <th>2879</th>\n",
       "      <td>2022-12-30 23:30:00</td>\n",
       "      <td>28.78</td>\n",
       "      <td>23.01</td>\n",
       "      <td>23.01</td>\n",
       "      <td>18762100</td>\n",
       "      <td>21315150</td>\n",
       "      <td>21721950</td>\n",
       "      <td>0.0</td>\n",
       "      <td>0.0</td>\n",
       "      <td>292.5</td>\n",
       "      <td>1.9</td>\n",
       "      <td>5.1</td>\n",
       "      <td>29.515</td>\n",
       "      <td>132.70</td>\n",
       "      <td>3917.0</td>\n",
       "      <td>133.70</td>\n",
       "      <td>131.70</td>\n",
       "      <td>132.70</td>\n",
       "    </tr>\n",
       "    <tr>\n",
       "      <th>2880</th>\n",
       "      <td>2022-12-31 00:00:00</td>\n",
       "      <td>22.40</td>\n",
       "      <td>24.90</td>\n",
       "      <td>24.90</td>\n",
       "      <td>17742850</td>\n",
       "      <td>20827400</td>\n",
       "      <td>19587950</td>\n",
       "      <td>0.0</td>\n",
       "      <td>0.0</td>\n",
       "      <td>315.0</td>\n",
       "      <td>1.5</td>\n",
       "      <td>4.1</td>\n",
       "      <td>29.515</td>\n",
       "      <td>132.70</td>\n",
       "      <td>3917.0</td>\n",
       "      <td>133.70</td>\n",
       "      <td>131.70</td>\n",
       "      <td>132.70</td>\n",
       "    </tr>\n",
       "  </tbody>\n",
       "</table>\n",
       "<p>1441 rows × 18 columns</p>\n",
       "</div>"
      ],
      "text/plain": [
       "                    DATE  IM_TK  DA_TK  DA_SYSTEM_PRICE  DA_TOTAL_VOLUME  \\\n",
       "1440 2022-12-01 00:00:00  21.29  17.00            15.00         18206550   \n",
       "1441 2022-12-01 00:30:00  20.16  17.30            16.00         18290050   \n",
       "1442 2022-12-01 01:00:00  20.55  17.68            17.13         18455950   \n",
       "1443 2022-12-01 01:30:00  20.40  17.76            17.30         18563900   \n",
       "1444 2022-12-01 02:00:00  20.69  17.30            17.30         18622700   \n",
       "...                  ...    ...    ...              ...              ...   \n",
       "2876 2022-12-30 22:00:00  30.01  27.08            28.24         20149150   \n",
       "2877 2022-12-30 22:30:00  29.28  29.10            30.00         19844750   \n",
       "2878 2022-12-30 23:00:00  29.15  25.75            26.83         19701850   \n",
       "2879 2022-12-30 23:30:00  28.78  23.01            23.01         18762100   \n",
       "2880 2022-12-31 00:00:00  22.40  24.90            24.90         17742850   \n",
       "\n",
       "      DA_BUY_VOLUME  DA_SELL_VOLUME  PRECIPITATION  RADIATION  WIND_DIRECTION  \\\n",
       "1440       18910950        21768650            0.0        0.0             0.0   \n",
       "1441       19007050        23034450            0.0        0.0             0.0   \n",
       "1442       19238450        24128100            0.0        0.0           292.5   \n",
       "1443       19430500        24383550            0.0        0.0           292.5   \n",
       "1444       19388500        24472700            0.0        0.0           292.5   \n",
       "...             ...             ...            ...        ...             ...   \n",
       "2876       24616450        23478550            0.0        0.0           315.0   \n",
       "2877       23963450        23026100            0.0        0.0           315.0   \n",
       "2878       23319600        22583050            0.0        0.0           292.5   \n",
       "2879       21315150        21721950            0.0        0.0           292.5   \n",
       "2880       20827400        19587950            0.0        0.0           315.0   \n",
       "\n",
       "      WIND_SPEED  TEMPERATURE  GAS_USD  USD_JPY  GAS_JPY     TTS     TTB  \\\n",
       "1440         3.1         13.5   33.780   137.09   4631.0  138.09  136.09   \n",
       "1441         3.1         13.5   33.780   137.09   4631.0  138.09  136.09   \n",
       "1442         1.4         12.8   33.780   137.09   4631.0  138.09  136.09   \n",
       "1443         1.4         12.8   33.780   137.09   4631.0  138.09  136.09   \n",
       "1444         2.3         12.4   33.780   137.09   4631.0  138.09  136.09   \n",
       "...          ...          ...      ...      ...      ...     ...     ...   \n",
       "2876         2.3          6.0   29.515   132.70   3917.0  133.70  131.70   \n",
       "2877         2.3          6.0   29.515   132.70   3917.0  133.70  131.70   \n",
       "2878         1.9          5.1   29.515   132.70   3917.0  133.70  131.70   \n",
       "2879         1.9          5.1   29.515   132.70   3917.0  133.70  131.70   \n",
       "2880         1.5          4.1   29.515   132.70   3917.0  133.70  131.70   \n",
       "\n",
       "         TTM  \n",
       "1440  137.09  \n",
       "1441  137.09  \n",
       "1442  137.09  \n",
       "1443  137.09  \n",
       "1444  137.09  \n",
       "...      ...  \n",
       "2876  132.70  \n",
       "2877  132.70  \n",
       "2878  132.70  \n",
       "2879  132.70  \n",
       "2880  132.70  \n",
       "\n",
       "[1441 rows x 18 columns]"
      ]
     },
     "execution_count": 1,
     "metadata": {},
     "output_type": "execute_result"
    }
   ],
   "source": [
    "from sklearn.preprocessing import MinMaxScaler\n",
    "from sklearn.model_selection import train_test_split\n",
    "import numpy as np\n",
    "import pandas as pd\n",
    "df=pd.read_csv('IM_DA_TK_ALL.csv')\n",
    "\n",
    "df['DATE'] = pd.to_datetime(df['DATE'])\n",
    "\n",
    "df[(df['DATE'] >= '2022-12-01')&(df['DATE'] <= '2022-12-31')]"
   ]
  },
  {
   "cell_type": "markdown",
   "metadata": {},
   "source": []
  },
  {
   "cell_type": "code",
   "execution_count": 2,
   "metadata": {},
   "outputs": [],
   "source": [
    "df.drop(['IM_TK',\"DA_SYSTEM_PRICE\"],axis=1,inplace=True)"
   ]
  },
  {
   "cell_type": "code",
   "execution_count": 3,
   "metadata": {},
   "outputs": [],
   "source": [
    "# Ensure DATETIME is in datetime format and sort the data\n",
    "df['DATE'] = pd.to_datetime(df['DATE'])\n",
    "df.sort_values('DATE', inplace=True)"
   ]
  },
  {
   "cell_type": "code",
   "execution_count": 4,
   "metadata": {},
   "outputs": [],
   "source": [
    "# # We focus only on the  for the LSTM model\n",
    "# prices = df['DA_KS'].values.reshape(-1, 1)\n",
    "prices = df['DA_TK']"
   ]
  },
  {
   "cell_type": "code",
   "execution_count": 5,
   "metadata": {},
   "outputs": [],
   "source": [
    "# NP = (prices- prices.min()) / (prices.max() - prices.min())\n",
    "NP = prices"
   ]
  },
  {
   "cell_type": "code",
   "execution_count": 6,
   "metadata": {},
   "outputs": [],
   "source": [
    "def create_sequences(data, sequence_length):\n",
    "    xs, ys = [], []\n",
    "    for i in range(len(data) - sequence_length):\n",
    "        x = data[i:(i + sequence_length)]\n",
    "        y = data[i + sequence_length]\n",
    "        xs.append(x)\n",
    "        ys.append(y)\n",
    "    return np.array(xs), np.array(ys)\n",
    "\n",
    "sequence_length = 1"
   ]
  },
  {
   "cell_type": "code",
   "execution_count": 7,
   "metadata": {},
   "outputs": [],
   "source": [
    "# Create sequences\n",
    "X, y = create_sequences(NP, sequence_length)"
   ]
  },
  {
   "cell_type": "code",
   "execution_count": 8,
   "metadata": {},
   "outputs": [
    {
     "name": "stdout",
     "output_type": "stream",
     "text": [
      "WARNING:tensorflow:From C:\\Users\\User\\AppData\\Roaming\\Python\\Python311\\site-packages\\keras\\src\\losses.py:2976: The name tf.losses.sparse_softmax_cross_entropy is deprecated. Please use tf.compat.v1.losses.sparse_softmax_cross_entropy instead.\n",
      "\n"
     ]
    }
   ],
   "source": [
    "from tensorflow.keras.models import load_model"
   ]
  },
  {
   "cell_type": "code",
   "execution_count": 9,
   "metadata": {},
   "outputs": [
    {
     "name": "stdout",
     "output_type": "stream",
     "text": [
      "WARNING:tensorflow:From C:\\Users\\User\\AppData\\Roaming\\Python\\Python311\\site-packages\\keras\\src\\backend.py:1398: The name tf.executing_eagerly_outside_functions is deprecated. Please use tf.compat.v1.executing_eagerly_outside_functions instead.\n",
      "\n"
     ]
    }
   ],
   "source": [
    "modeltest = load_model('testTokyo.h5')  "
   ]
  },
  {
   "cell_type": "code",
   "execution_count": 10,
   "metadata": {},
   "outputs": [
    {
     "name": "stdout",
     "output_type": "stream",
     "text": [
      "507/507 [==============================] - 1s 1ms/step\n"
     ]
    }
   ],
   "source": [
    "predicted = modeltest.predict(X)"
   ]
  },
  {
   "cell_type": "code",
   "execution_count": 14,
   "metadata": {},
   "outputs": [
    {
     "data": {
      "text/plain": [
       "144.78195044251947"
      ]
     },
     "execution_count": 14,
     "metadata": {},
     "output_type": "execute_result"
    }
   ],
   "source": [
    "from sklearn.metrics import mean_squared_error\n",
    "MSE=mean_squared_error(predicted, y)\n",
    "MSE"
   ]
  },
  {
   "cell_type": "code",
   "execution_count": 12,
   "metadata": {},
   "outputs": [
    {
     "data": {
      "text/plain": [
       "11.363934533398718"
      ]
     },
     "execution_count": 12,
     "metadata": {},
     "output_type": "execute_result"
    }
   ],
   "source": [
    "from sklearn.metrics import mean_absolute_error\n",
    "MAE= mean_absolute_error(predicted, y)\n",
    "MAE"
   ]
  },
  {
   "cell_type": "code",
   "execution_count": 13,
   "metadata": {},
   "outputs": [
    {
     "data": {
      "text/plain": [
       "-11.550097888086158"
      ]
     },
     "execution_count": 13,
     "metadata": {},
     "output_type": "execute_result"
    }
   ],
   "source": [
    "from sklearn.metrics import r2_score\n",
    "R2=r2_score(predicted, y)\n",
    "R2"
   ]
  }
 ],
 "metadata": {
  "kernelspec": {
   "display_name": "pycaret",
   "language": "python",
   "name": "python3"
  },
  "language_info": {
   "codemirror_mode": {
    "name": "ipython",
    "version": 3
   },
   "file_extension": ".py",
   "mimetype": "text/x-python",
   "name": "python",
   "nbconvert_exporter": "python",
   "pygments_lexer": "ipython3",
   "version": "3.11.5"
  }
 },
 "nbformat": 4,
 "nbformat_minor": 2
}
