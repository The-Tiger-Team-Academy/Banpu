{
 "cells": [
  {
   "cell_type": "code",
   "execution_count": 1,
   "metadata": {},
   "outputs": [
    {
     "data": {
      "text/html": [
       "<div>\n",
       "<style scoped>\n",
       "    .dataframe tbody tr th:only-of-type {\n",
       "        vertical-align: middle;\n",
       "    }\n",
       "\n",
       "    .dataframe tbody tr th {\n",
       "        vertical-align: top;\n",
       "    }\n",
       "\n",
       "    .dataframe thead th {\n",
       "        text-align: right;\n",
       "    }\n",
       "</style>\n",
       "<table border=\"1\" class=\"dataframe\">\n",
       "  <thead>\n",
       "    <tr style=\"text-align: right;\">\n",
       "      <th></th>\n",
       "      <th>DATE</th>\n",
       "      <th>IM_KS</th>\n",
       "      <th>DA_KS</th>\n",
       "      <th>DA_SYSTEM_PRICE</th>\n",
       "      <th>DA_TOTAL_VOLUME</th>\n",
       "      <th>DA_BUY_VOLUME</th>\n",
       "      <th>DA_SELL_VOLUME</th>\n",
       "      <th>PRECIPITATION</th>\n",
       "      <th>RADIATION</th>\n",
       "      <th>WIND_DIRECTION</th>\n",
       "      <th>WIND_SPEED</th>\n",
       "      <th>TEMPERATURE</th>\n",
       "      <th>GAS_USD</th>\n",
       "      <th>USD_JPY</th>\n",
       "      <th>GAS_JPY</th>\n",
       "      <th>TTS</th>\n",
       "      <th>TTB</th>\n",
       "      <th>TTM</th>\n",
       "    </tr>\n",
       "  </thead>\n",
       "  <tbody>\n",
       "    <tr>\n",
       "      <th>4416</th>\n",
       "      <td>2023-02-01 00:00:00</td>\n",
       "      <td>18.05</td>\n",
       "      <td>17.76</td>\n",
       "      <td>17.62</td>\n",
       "      <td>21011950</td>\n",
       "      <td>24038350</td>\n",
       "      <td>23494400</td>\n",
       "      <td>0.0</td>\n",
       "      <td>0.0</td>\n",
       "      <td>337.5</td>\n",
       "      <td>2.7</td>\n",
       "      <td>2.8</td>\n",
       "      <td>18.97</td>\n",
       "      <td>129.90</td>\n",
       "      <td>2464.0</td>\n",
       "      <td>130.90</td>\n",
       "      <td>128.90</td>\n",
       "      <td>129.90</td>\n",
       "    </tr>\n",
       "    <tr>\n",
       "      <th>4417</th>\n",
       "      <td>2023-02-01 00:30:00</td>\n",
       "      <td>17.78</td>\n",
       "      <td>17.00</td>\n",
       "      <td>16.99</td>\n",
       "      <td>21422900</td>\n",
       "      <td>24092100</td>\n",
       "      <td>25253850</td>\n",
       "      <td>0.0</td>\n",
       "      <td>0.0</td>\n",
       "      <td>337.5</td>\n",
       "      <td>2.7</td>\n",
       "      <td>2.8</td>\n",
       "      <td>18.97</td>\n",
       "      <td>129.90</td>\n",
       "      <td>2464.0</td>\n",
       "      <td>130.90</td>\n",
       "      <td>128.90</td>\n",
       "      <td>129.90</td>\n",
       "    </tr>\n",
       "    <tr>\n",
       "      <th>4418</th>\n",
       "      <td>2023-02-01 01:00:00</td>\n",
       "      <td>17.89</td>\n",
       "      <td>16.99</td>\n",
       "      <td>16.90</td>\n",
       "      <td>21446900</td>\n",
       "      <td>24052150</td>\n",
       "      <td>25999400</td>\n",
       "      <td>0.0</td>\n",
       "      <td>0.0</td>\n",
       "      <td>315.0</td>\n",
       "      <td>2.2</td>\n",
       "      <td>1.8</td>\n",
       "      <td>18.97</td>\n",
       "      <td>129.90</td>\n",
       "      <td>2464.0</td>\n",
       "      <td>130.90</td>\n",
       "      <td>128.90</td>\n",
       "      <td>129.90</td>\n",
       "    </tr>\n",
       "    <tr>\n",
       "      <th>4419</th>\n",
       "      <td>2023-02-01 01:30:00</td>\n",
       "      <td>17.67</td>\n",
       "      <td>16.91</td>\n",
       "      <td>16.51</td>\n",
       "      <td>21525650</td>\n",
       "      <td>23988000</td>\n",
       "      <td>26442800</td>\n",
       "      <td>0.0</td>\n",
       "      <td>0.0</td>\n",
       "      <td>315.0</td>\n",
       "      <td>2.2</td>\n",
       "      <td>1.8</td>\n",
       "      <td>18.97</td>\n",
       "      <td>129.90</td>\n",
       "      <td>2464.0</td>\n",
       "      <td>130.90</td>\n",
       "      <td>128.90</td>\n",
       "      <td>129.90</td>\n",
       "    </tr>\n",
       "    <tr>\n",
       "      <th>4420</th>\n",
       "      <td>2023-02-01 02:00:00</td>\n",
       "      <td>17.42</td>\n",
       "      <td>16.55</td>\n",
       "      <td>16.01</td>\n",
       "      <td>21548600</td>\n",
       "      <td>23815750</td>\n",
       "      <td>26672500</td>\n",
       "      <td>0.0</td>\n",
       "      <td>0.0</td>\n",
       "      <td>315.0</td>\n",
       "      <td>1.5</td>\n",
       "      <td>1.4</td>\n",
       "      <td>18.97</td>\n",
       "      <td>129.90</td>\n",
       "      <td>2464.0</td>\n",
       "      <td>130.90</td>\n",
       "      <td>128.90</td>\n",
       "      <td>129.90</td>\n",
       "    </tr>\n",
       "    <tr>\n",
       "      <th>...</th>\n",
       "      <td>...</td>\n",
       "      <td>...</td>\n",
       "      <td>...</td>\n",
       "      <td>...</td>\n",
       "      <td>...</td>\n",
       "      <td>...</td>\n",
       "      <td>...</td>\n",
       "      <td>...</td>\n",
       "      <td>...</td>\n",
       "      <td>...</td>\n",
       "      <td>...</td>\n",
       "      <td>...</td>\n",
       "      <td>...</td>\n",
       "      <td>...</td>\n",
       "      <td>...</td>\n",
       "      <td>...</td>\n",
       "      <td>...</td>\n",
       "      <td>...</td>\n",
       "    </tr>\n",
       "    <tr>\n",
       "      <th>5708</th>\n",
       "      <td>2023-02-27 22:00:00</td>\n",
       "      <td>14.74</td>\n",
       "      <td>17.41</td>\n",
       "      <td>16.48</td>\n",
       "      <td>19719650</td>\n",
       "      <td>23043200</td>\n",
       "      <td>24289850</td>\n",
       "      <td>0.0</td>\n",
       "      <td>0.0</td>\n",
       "      <td>202.5</td>\n",
       "      <td>3.1</td>\n",
       "      <td>10.1</td>\n",
       "      <td>14.97</td>\n",
       "      <td>136.27</td>\n",
       "      <td>2040.0</td>\n",
       "      <td>137.27</td>\n",
       "      <td>135.27</td>\n",
       "      <td>136.27</td>\n",
       "    </tr>\n",
       "    <tr>\n",
       "      <th>5709</th>\n",
       "      <td>2023-02-27 22:30:00</td>\n",
       "      <td>14.71</td>\n",
       "      <td>15.39</td>\n",
       "      <td>14.62</td>\n",
       "      <td>19618700</td>\n",
       "      <td>22393700</td>\n",
       "      <td>24368550</td>\n",
       "      <td>0.0</td>\n",
       "      <td>0.0</td>\n",
       "      <td>202.5</td>\n",
       "      <td>3.1</td>\n",
       "      <td>10.1</td>\n",
       "      <td>14.97</td>\n",
       "      <td>136.27</td>\n",
       "      <td>2040.0</td>\n",
       "      <td>137.27</td>\n",
       "      <td>135.27</td>\n",
       "      <td>136.27</td>\n",
       "    </tr>\n",
       "    <tr>\n",
       "      <th>5710</th>\n",
       "      <td>2023-02-27 23:00:00</td>\n",
       "      <td>17.71</td>\n",
       "      <td>14.92</td>\n",
       "      <td>14.27</td>\n",
       "      <td>19021200</td>\n",
       "      <td>21687700</td>\n",
       "      <td>23571200</td>\n",
       "      <td>0.0</td>\n",
       "      <td>0.0</td>\n",
       "      <td>202.5</td>\n",
       "      <td>2.3</td>\n",
       "      <td>9.3</td>\n",
       "      <td>14.97</td>\n",
       "      <td>136.27</td>\n",
       "      <td>2040.0</td>\n",
       "      <td>137.27</td>\n",
       "      <td>135.27</td>\n",
       "      <td>136.27</td>\n",
       "    </tr>\n",
       "    <tr>\n",
       "      <th>5711</th>\n",
       "      <td>2023-02-27 23:30:00</td>\n",
       "      <td>17.60</td>\n",
       "      <td>13.73</td>\n",
       "      <td>13.34</td>\n",
       "      <td>18362700</td>\n",
       "      <td>20708600</td>\n",
       "      <td>23326350</td>\n",
       "      <td>0.0</td>\n",
       "      <td>0.0</td>\n",
       "      <td>202.5</td>\n",
       "      <td>2.3</td>\n",
       "      <td>9.3</td>\n",
       "      <td>14.97</td>\n",
       "      <td>136.27</td>\n",
       "      <td>2040.0</td>\n",
       "      <td>137.27</td>\n",
       "      <td>135.27</td>\n",
       "      <td>136.27</td>\n",
       "    </tr>\n",
       "    <tr>\n",
       "      <th>5712</th>\n",
       "      <td>2023-02-28 00:00:00</td>\n",
       "      <td>18.11</td>\n",
       "      <td>14.07</td>\n",
       "      <td>14.17</td>\n",
       "      <td>18643250</td>\n",
       "      <td>21416150</td>\n",
       "      <td>21547050</td>\n",
       "      <td>0.0</td>\n",
       "      <td>0.0</td>\n",
       "      <td>202.5</td>\n",
       "      <td>2.5</td>\n",
       "      <td>8.8</td>\n",
       "      <td>14.36</td>\n",
       "      <td>136.33</td>\n",
       "      <td>1958.0</td>\n",
       "      <td>137.33</td>\n",
       "      <td>135.33</td>\n",
       "      <td>136.33</td>\n",
       "    </tr>\n",
       "  </tbody>\n",
       "</table>\n",
       "<p>1297 rows × 18 columns</p>\n",
       "</div>"
      ],
      "text/plain": [
       "                    DATE  IM_KS  DA_KS  DA_SYSTEM_PRICE  DA_TOTAL_VOLUME  \\\n",
       "4416 2023-02-01 00:00:00  18.05  17.76            17.62         21011950   \n",
       "4417 2023-02-01 00:30:00  17.78  17.00            16.99         21422900   \n",
       "4418 2023-02-01 01:00:00  17.89  16.99            16.90         21446900   \n",
       "4419 2023-02-01 01:30:00  17.67  16.91            16.51         21525650   \n",
       "4420 2023-02-01 02:00:00  17.42  16.55            16.01         21548600   \n",
       "...                  ...    ...    ...              ...              ...   \n",
       "5708 2023-02-27 22:00:00  14.74  17.41            16.48         19719650   \n",
       "5709 2023-02-27 22:30:00  14.71  15.39            14.62         19618700   \n",
       "5710 2023-02-27 23:00:00  17.71  14.92            14.27         19021200   \n",
       "5711 2023-02-27 23:30:00  17.60  13.73            13.34         18362700   \n",
       "5712 2023-02-28 00:00:00  18.11  14.07            14.17         18643250   \n",
       "\n",
       "      DA_BUY_VOLUME  DA_SELL_VOLUME  PRECIPITATION  RADIATION  WIND_DIRECTION  \\\n",
       "4416       24038350        23494400            0.0        0.0           337.5   \n",
       "4417       24092100        25253850            0.0        0.0           337.5   \n",
       "4418       24052150        25999400            0.0        0.0           315.0   \n",
       "4419       23988000        26442800            0.0        0.0           315.0   \n",
       "4420       23815750        26672500            0.0        0.0           315.0   \n",
       "...             ...             ...            ...        ...             ...   \n",
       "5708       23043200        24289850            0.0        0.0           202.5   \n",
       "5709       22393700        24368550            0.0        0.0           202.5   \n",
       "5710       21687700        23571200            0.0        0.0           202.5   \n",
       "5711       20708600        23326350            0.0        0.0           202.5   \n",
       "5712       21416150        21547050            0.0        0.0           202.5   \n",
       "\n",
       "      WIND_SPEED  TEMPERATURE  GAS_USD  USD_JPY  GAS_JPY     TTS     TTB  \\\n",
       "4416         2.7          2.8    18.97   129.90   2464.0  130.90  128.90   \n",
       "4417         2.7          2.8    18.97   129.90   2464.0  130.90  128.90   \n",
       "4418         2.2          1.8    18.97   129.90   2464.0  130.90  128.90   \n",
       "4419         2.2          1.8    18.97   129.90   2464.0  130.90  128.90   \n",
       "4420         1.5          1.4    18.97   129.90   2464.0  130.90  128.90   \n",
       "...          ...          ...      ...      ...      ...     ...     ...   \n",
       "5708         3.1         10.1    14.97   136.27   2040.0  137.27  135.27   \n",
       "5709         3.1         10.1    14.97   136.27   2040.0  137.27  135.27   \n",
       "5710         2.3          9.3    14.97   136.27   2040.0  137.27  135.27   \n",
       "5711         2.3          9.3    14.97   136.27   2040.0  137.27  135.27   \n",
       "5712         2.5          8.8    14.36   136.33   1958.0  137.33  135.33   \n",
       "\n",
       "         TTM  \n",
       "4416  129.90  \n",
       "4417  129.90  \n",
       "4418  129.90  \n",
       "4419  129.90  \n",
       "4420  129.90  \n",
       "...      ...  \n",
       "5708  136.27  \n",
       "5709  136.27  \n",
       "5710  136.27  \n",
       "5711  136.27  \n",
       "5712  136.33  \n",
       "\n",
       "[1297 rows x 18 columns]"
      ]
     },
     "execution_count": 1,
     "metadata": {},
     "output_type": "execute_result"
    }
   ],
   "source": [
    "import numpy as np\n",
    "import pandas as pd\n",
    "df=pd.read_csv('IM_DA_KS_ALL.csv')\n",
    "\n",
    "df['DATE'] = pd.to_datetime(df['DATE'])\n",
    "\n",
    "df[(df['DATE'] >= '2023-02-01')&(df['DATE'] <= '2023-02-28')]"
   ]
  },
  {
   "cell_type": "code",
   "execution_count": 2,
   "metadata": {},
   "outputs": [],
   "source": [
    "df.drop(['IM_KS',\"DA_SYSTEM_PRICE\"],axis=1,inplace=True)"
   ]
  },
  {
   "cell_type": "code",
   "execution_count": 3,
   "metadata": {},
   "outputs": [],
   "source": [
    "# Ensure DATETIME is in datetime format and sort the data\n",
    "df['DATE'] = pd.to_datetime(df['DATE'])\n",
    "df.sort_values('DATE', inplace=True)"
   ]
  },
  {
   "cell_type": "code",
   "execution_count": 4,
   "metadata": {},
   "outputs": [],
   "source": [
    "# # We focus only on the  for the LSTM model\n",
    "# prices = df['DA_KS'].values.reshape(-1, 1)\n",
    "prices = df['DA_KS']"
   ]
  },
  {
   "cell_type": "code",
   "execution_count": 5,
   "metadata": {},
   "outputs": [],
   "source": [
    "# NP = (prices- prices.min()) / (prices.max() - prices.min())\n",
    "NP = prices"
   ]
  },
  {
   "cell_type": "code",
   "execution_count": 6,
   "metadata": {},
   "outputs": [],
   "source": [
    "def create_sequences(data, sequence_length):\n",
    "    xs, ys = [], []\n",
    "    for i in range(len(data) - sequence_length):\n",
    "        x = data[i:(i + sequence_length)]\n",
    "        y = data[i + sequence_length]\n",
    "        xs.append(x)\n",
    "        ys.append(y)\n",
    "    return np.array(xs), np.array(ys)\n",
    "\n",
    "sequence_length = 1"
   ]
  },
  {
   "cell_type": "code",
   "execution_count": 7,
   "metadata": {},
   "outputs": [],
   "source": [
    "# Create sequences\n",
    "X, y = create_sequences(NP, sequence_length)"
   ]
  },
  {
   "cell_type": "code",
   "execution_count": 8,
   "metadata": {},
   "outputs": [
    {
     "name": "stdout",
     "output_type": "stream",
     "text": [
      "WARNING:tensorflow:From C:\\Users\\User\\AppData\\Roaming\\Python\\Python311\\site-packages\\keras\\src\\losses.py:2976: The name tf.losses.sparse_softmax_cross_entropy is deprecated. Please use tf.compat.v1.losses.sparse_softmax_cross_entropy instead.\n",
      "\n"
     ]
    }
   ],
   "source": [
    "from tensorflow.keras.models import load_model"
   ]
  },
  {
   "cell_type": "code",
   "execution_count": 9,
   "metadata": {},
   "outputs": [
    {
     "name": "stdout",
     "output_type": "stream",
     "text": [
      "WARNING:tensorflow:From C:\\Users\\User\\AppData\\Roaming\\Python\\Python311\\site-packages\\keras\\src\\backend.py:1398: The name tf.executing_eagerly_outside_functions is deprecated. Please use tf.compat.v1.executing_eagerly_outside_functions instead.\n",
      "\n"
     ]
    }
   ],
   "source": [
    "modeltest = load_model('KS.h5')  "
   ]
  },
  {
   "cell_type": "code",
   "execution_count": 10,
   "metadata": {},
   "outputs": [
    {
     "name": "stdout",
     "output_type": "stream",
     "text": [
      "507/507 [==============================] - 1s 1ms/step\n"
     ]
    }
   ],
   "source": [
    "predicted = modeltest.predict(X)"
   ]
  },
  {
   "cell_type": "code",
   "execution_count": 11,
   "metadata": {},
   "outputs": [
    {
     "data": {
      "text/plain": [
       "18.526523797121392"
      ]
     },
     "execution_count": 11,
     "metadata": {},
     "output_type": "execute_result"
    }
   ],
   "source": [
    "from sklearn.metrics import mean_squared_error\n",
    "MSE=mean_squared_error(predicted, y)\n",
    "MSE"
   ]
  },
  {
   "cell_type": "code",
   "execution_count": 12,
   "metadata": {},
   "outputs": [
    {
     "data": {
      "text/plain": [
       "3.489592547126812"
      ]
     },
     "execution_count": 12,
     "metadata": {},
     "output_type": "execute_result"
    }
   ],
   "source": [
    "from sklearn.metrics import mean_absolute_error\n",
    "MAE= mean_absolute_error(predicted, y)\n",
    "MAE"
   ]
  },
  {
   "cell_type": "code",
   "execution_count": 13,
   "metadata": {},
   "outputs": [
    {
     "data": {
      "text/plain": [
       "0.17655561059934122"
      ]
     },
     "execution_count": 13,
     "metadata": {},
     "output_type": "execute_result"
    }
   ],
   "source": [
    "from sklearn.metrics import r2_score\n",
    "R2=r2_score(predicted, y)\n",
    "R2"
   ]
  }
 ],
 "metadata": {
  "kernelspec": {
   "display_name": "pycaret",
   "language": "python",
   "name": "python3"
  },
  "language_info": {
   "codemirror_mode": {
    "name": "ipython",
    "version": 3
   },
   "file_extension": ".py",
   "mimetype": "text/x-python",
   "name": "python",
   "nbconvert_exporter": "python",
   "pygments_lexer": "ipython3",
   "version": "3.11.5"
  }
 },
 "nbformat": 4,
 "nbformat_minor": 2
}
