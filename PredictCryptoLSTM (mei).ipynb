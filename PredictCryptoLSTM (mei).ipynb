{
  "cells": [
    {
      "cell_type": "markdown",
      "metadata": {
        "id": "KIAPX-IjZTtM"
      },
      "source": [
        "#Price Prediction with LSTM\n",
        "\n",
        "แม้ว่าแมชชีนเลิร์นนิงจะประสบความสำเร็จในการทำนายราคาตลาดหุ้น ผ่านแบบจำลองอนุกรมเวลาที่หลากหลาย แต่การประยุกต์ใช้ในการทำนายราคาสกุลเงินดิจิทัลนั้นค่อนข้างจำกัด\n",
        "\n",
        "เหตุผลเนื่องจากราคาของ cryptocurrencies ขึ้นอยู่กับปัจจัยหลายอย่าง เช่น ความก้าวหน้าทางเทคโนโลยี การแข่งขันภายใน แรงกดดันในตลาด ปัญหาทางเศรษฐกิจ ปัญหาด้านความปลอดภัย ปัจจัยทางการเมือง แรงกระตุ้นของอินฟลูเอนเซอร์ เป็นต้น\n",
        "\n",
        "แต่ความผันผวนที่สูง นำไปสู่การทำกำไรที่สูงด้วย ถ้าหากมีกลยุทธ์ที่ชาญฉลาด  น่าเสียดาย เนื่องจากไม่มีดัชนีสกุลเงินดิจิทัลจึงค่อนข้างคาดเดาไม่ได้เมื่อเทียบกับการคาดการณ์ทางการเงินแบบเดิม เช่น การทำนายตลาดหุ้น\n"
      ]
    },
    {
      "cell_type": "markdown",
      "metadata": {
        "id": "f9wYe2FCbGYl"
      },
      "source": [
        "เราจะมาทำการทำนายราคา โดยมี 4 ขั้นต้น\n",
        "\n",
        "\n",
        "1. หาข้อมูลราคาแบบปัจจุบัน\n",
        "2. จัดเตรียมข้อมูลสำหรับการเทรนนิ่งและการทดสอบ\n",
        "3. ทำนายราคาของ cryptocurrency โดยใช้โครงข่ายประสาทเทียม LSTM\n",
        "4. แสดงผลการทำนายด้วยกราฟ\n",
        "\n",
        "\n",
        "ความท้าทาย\n",
        "เพื่อคาดการณ์ราคาสกุลเงินดิจิทัลโดยใช้คุณสมบัติการซื้อขายทั้งหมด เช่น ราคา ปริมาณ ราคาเปิด ราคาสูงสุด ราคาต่ำค่าต่ำที่มีอยู่ในชุดข้อมูล\n",
        "\n",
        "\n",
        "ข้อมูล\n",
        "โหลดมาจากเว็บไซต์ CryptoCompare \n",
        "ชุดข้อมูลประกอบด้วยคุณสมบัติทั้งหมด 5 รายการ รายละเอียดสำหรับพวกเขามีดังนี้:\n",
        "1. ราคาปิด — เป็นราคาปิดตลาดสำหรับสกุลเงินในวันนั้น ๆ\n",
        "2. ราคาสูงสุด — เป็นราคาสูงสุดของสกุลเงินในวันนั้น\n",
        "3. ราคาต่ำสุด — เป็นราคาต่ำสุดสำหรับสกุลเงินในวันนั้น\n",
        "4. ราคาเปิด — เป็นราคาเปิดตลาดสำหรับสกุลเงินในวันนั้น\n",
        "5. ปริมาณ — ปริมาณของสกุลเงินที่มีการซื้อขายในวันนั้น\n"
      ]
    },
    {
      "cell_type": "markdown",
      "metadata": {
        "id": "Zgc89lKQcg1v"
      },
      "source": [
        "เราจากการ import libraby ที่จำเป็น"
      ]
    },
    {
      "cell_type": "code",
      "execution_count": 62,
      "metadata": {
        "id": "SWjePmRxgdED"
      },
      "outputs": [],
      "source": [
        "import json\n",
        "import requests\n",
        "from keras.models import Sequential\n",
        "from keras.layers import Activation, Dense, Dropout, LSTM\n",
        "import matplotlib.pyplot as plt\n",
        "import numpy as np\n",
        "import pandas as pd\n",
        "import seaborn as sns\n",
        "from sklearn.metrics import mean_absolute_error\n",
        "%matplotlib inline"
      ]
    },
    {
      "cell_type": "markdown",
      "metadata": {
        "id": "b9NyMud0crmo"
      },
      "source": [
        "เราจะใช้อัตราแลกเปลี่ยนเป็น USD และนำข้อมูลปัจจุบนมาใส่ใน pandas data-framw\n",
        "\n",
        "ใช้เมธอด to_datetime() เพื่อแปลงข้อความ Date time ให้เป็นวัตถุ Python Date time สิ่งนี้จำเป็นเนื่องจากอ็อบเจ็กต์ Date time ในไฟล์ถูกอ่านเป็นอ็อบเจ็กต์สตริง\n",
        "การดำเนินการเช่น ความแตกต่างของเวลาในสตริงแทนที่จะเป็นออบเจ็กต์ Date Time นั้นง่ายมาก เพราะการจัดการแบบสตริงจะง่ายกว่า"
      ]
    },
    {
      "cell_type": "code",
      "execution_count": null,
      "metadata": {
        "id": "WKBHk5VQgjg_"
      },
      "outputs": [],
      "source": [
        "# endpoint = 'https://min-api.cryptocompare.com/data/histoday'\n",
        "# res = requests.get(endpoint + '?fsym=ADA&tsym=USD&limit=1000')\n",
        "# hist = pd.DataFrame(json.loads(res.content)['Data'])\n",
        "# hist = hist.set_index('time')\n",
        "# hist.index = pd.to_datetime(hist.index, unit='s')\n",
        "# target_col = 'close'"
      ]
    },
    {
      "cell_type": "code",
      "execution_count": 66,
      "metadata": {},
      "outputs": [
        {
          "name": "stderr",
          "output_type": "stream",
          "text": [
            "C:\\Users\\Administrator\\AppData\\Local\\Temp\\ipykernel_19584\\977208236.py:1: UserWarning: Could not infer format, so each element will be parsed individually, falling back to `dateutil`. To ensure parsing is consistent and as-expected, please specify a format.\n",
            "  jepx = pd.read_csv(\"df_jepx_spotsum.csv\", parse_dates=['DATETIME','SYSTEM_PRICE'], usecols=[0,7])\n"
          ]
        }
      ],
      "source": [
        "jepx = pd.read_csv(\"df_jepx_spotsum.csv\", parse_dates=['DATETIME','SYSTEM_PRICE'], usecols=[0,7])\n",
        "# jepx = jepx.set_index('DATETIME')"
      ]
    },
    {
      "cell_type": "code",
      "execution_count": 67,
      "metadata": {},
      "outputs": [],
      "source": [
        "jepx = pd.read_csv(\"df_jepx_spotsum.csv\", parse_dates=['DATETIME'], usecols=[0,7])\n",
        "# jepx = jepx.set_index('DATETIME')\n",
        "target_col = 'SYSTEM_PRICE'"
      ]
    },
    {
      "cell_type": "code",
      "execution_count": 68,
      "metadata": {},
      "outputs": [
        {
          "data": {
            "text/html": [
              "<div>\n",
              "<style scoped>\n",
              "    .dataframe tbody tr th:only-of-type {\n",
              "        vertical-align: middle;\n",
              "    }\n",
              "\n",
              "    .dataframe tbody tr th {\n",
              "        vertical-align: top;\n",
              "    }\n",
              "\n",
              "    .dataframe thead th {\n",
              "        text-align: right;\n",
              "    }\n",
              "</style>\n",
              "<table border=\"1\" class=\"dataframe\">\n",
              "  <thead>\n",
              "    <tr style=\"text-align: right;\">\n",
              "      <th></th>\n",
              "      <th>DATETIME</th>\n",
              "      <th>SYSTEM_PRICE</th>\n",
              "    </tr>\n",
              "  </thead>\n",
              "  <tbody>\n",
              "    <tr>\n",
              "      <th>0</th>\n",
              "      <td>2005-04-02 00:00:00</td>\n",
              "      <td>6.71</td>\n",
              "    </tr>\n",
              "    <tr>\n",
              "      <th>1</th>\n",
              "      <td>2005-04-02 00:30:00</td>\n",
              "      <td>6.65</td>\n",
              "    </tr>\n",
              "    <tr>\n",
              "      <th>2</th>\n",
              "      <td>2005-04-02 01:00:00</td>\n",
              "      <td>6.39</td>\n",
              "    </tr>\n",
              "    <tr>\n",
              "      <th>3</th>\n",
              "      <td>2005-04-02 01:30:00</td>\n",
              "      <td>6.39</td>\n",
              "    </tr>\n",
              "    <tr>\n",
              "      <th>4</th>\n",
              "      <td>2005-04-02 02:00:00</td>\n",
              "      <td>5.68</td>\n",
              "    </tr>\n",
              "    <tr>\n",
              "      <th>...</th>\n",
              "      <td>...</td>\n",
              "      <td>...</td>\n",
              "    </tr>\n",
              "    <tr>\n",
              "      <th>325819</th>\n",
              "      <td>2023-11-01 21:30:00</td>\n",
              "      <td>13.91</td>\n",
              "    </tr>\n",
              "    <tr>\n",
              "      <th>325820</th>\n",
              "      <td>2023-11-01 22:00:00</td>\n",
              "      <td>13.14</td>\n",
              "    </tr>\n",
              "    <tr>\n",
              "      <th>325821</th>\n",
              "      <td>2023-11-01 22:30:00</td>\n",
              "      <td>12.75</td>\n",
              "    </tr>\n",
              "    <tr>\n",
              "      <th>325822</th>\n",
              "      <td>2023-11-01 23:00:00</td>\n",
              "      <td>12.60</td>\n",
              "    </tr>\n",
              "    <tr>\n",
              "      <th>325823</th>\n",
              "      <td>2023-11-01 23:30:00</td>\n",
              "      <td>11.69</td>\n",
              "    </tr>\n",
              "  </tbody>\n",
              "</table>\n",
              "<p>325824 rows × 2 columns</p>\n",
              "</div>"
            ],
            "text/plain": [
              "                  DATETIME  SYSTEM_PRICE\n",
              "0      2005-04-02 00:00:00          6.71\n",
              "1      2005-04-02 00:30:00          6.65\n",
              "2      2005-04-02 01:00:00          6.39\n",
              "3      2005-04-02 01:30:00          6.39\n",
              "4      2005-04-02 02:00:00          5.68\n",
              "...                    ...           ...\n",
              "325819 2023-11-01 21:30:00         13.91\n",
              "325820 2023-11-01 22:00:00         13.14\n",
              "325821 2023-11-01 22:30:00         12.75\n",
              "325822 2023-11-01 23:00:00         12.60\n",
              "325823 2023-11-01 23:30:00         11.69\n",
              "\n",
              "[325824 rows x 2 columns]"
            ]
          },
          "execution_count": 68,
          "metadata": {},
          "output_type": "execute_result"
        }
      ],
      "source": [
        "jepx"
      ]
    },
    {
      "cell_type": "code",
      "execution_count": 69,
      "metadata": {},
      "outputs": [
        {
          "name": "stdout",
          "output_type": "stream",
          "text": [
            "<class 'pandas.core.frame.DataFrame'>\n",
            "RangeIndex: 325824 entries, 0 to 325823\n",
            "Data columns (total 2 columns):\n",
            " #   Column        Non-Null Count   Dtype         \n",
            "---  ------        --------------   -----         \n",
            " 0   DATETIME      325824 non-null  datetime64[ns]\n",
            " 1   SYSTEM_PRICE  325824 non-null  float64       \n",
            "dtypes: datetime64[ns](1), float64(1)\n",
            "memory usage: 5.0 MB\n"
          ]
        }
      ],
      "source": [
        "jepx.info()"
      ]
    },
    {
      "cell_type": "code",
      "execution_count": 70,
      "metadata": {},
      "outputs": [
        {
          "data": {
            "text/plain": [
              "<seaborn.axisgrid.PairGrid at 0x2065ac252d0>"
            ]
          },
          "execution_count": 70,
          "metadata": {},
          "output_type": "execute_result"
        },
        {
          "data": {
            "image/png": "[encoded data removed]",
            "text/plain": [
              "<Figure size 250x250 with 2 Axes>"
            ]
          },
          "metadata": {},
          "output_type": "display_data"
        }
      ],
      "source": [
        "sns.pairplot(jepx)"
      ]
    },
    {
      "cell_type": "code",
      "execution_count": 71,
      "metadata": {},
      "outputs": [
        {
          "data": {
            "text/html": [
              "<div>\n",
              "<style scoped>\n",
              "    .dataframe tbody tr th:only-of-type {\n",
              "        vertical-align: middle;\n",
              "    }\n",
              "\n",
              "    .dataframe tbody tr th {\n",
              "        vertical-align: top;\n",
              "    }\n",
              "\n",
              "    .dataframe thead th {\n",
              "        text-align: right;\n",
              "    }\n",
              "</style>\n",
              "<table border=\"1\" class=\"dataframe\">\n",
              "  <thead>\n",
              "    <tr style=\"text-align: right;\">\n",
              "      <th></th>\n",
              "      <th>DATETIME</th>\n",
              "      <th>SYSTEM_PRICE</th>\n",
              "    </tr>\n",
              "  </thead>\n",
              "  <tbody>\n",
              "    <tr>\n",
              "      <th>0</th>\n",
              "      <td>2005-04-02 00:00:00</td>\n",
              "      <td>6.71</td>\n",
              "    </tr>\n",
              "    <tr>\n",
              "      <th>1</th>\n",
              "      <td>2005-04-02 00:30:00</td>\n",
              "      <td>6.65</td>\n",
              "    </tr>\n",
              "    <tr>\n",
              "      <th>2</th>\n",
              "      <td>2005-04-02 01:00:00</td>\n",
              "      <td>6.39</td>\n",
              "    </tr>\n",
              "    <tr>\n",
              "      <th>3</th>\n",
              "      <td>2005-04-02 01:30:00</td>\n",
              "      <td>6.39</td>\n",
              "    </tr>\n",
              "    <tr>\n",
              "      <th>4</th>\n",
              "      <td>2005-04-02 02:00:00</td>\n",
              "      <td>5.68</td>\n",
              "    </tr>\n",
              "  </tbody>\n",
              "</table>\n",
              "</div>"
            ],
            "text/plain": [
              "             DATETIME  SYSTEM_PRICE\n",
              "0 2005-04-02 00:00:00          6.71\n",
              "1 2005-04-02 00:30:00          6.65\n",
              "2 2005-04-02 01:00:00          6.39\n",
              "3 2005-04-02 01:30:00          6.39\n",
              "4 2005-04-02 02:00:00          5.68"
            ]
          },
          "execution_count": 71,
          "metadata": {},
          "output_type": "execute_result"
        }
      ],
      "source": [
        "jepx.head(5)"
      ]
    },
    {
      "cell_type": "code",
      "execution_count": 72,
      "metadata": {},
      "outputs": [
        {
          "data": {
            "text/html": [
              "<div>\n",
              "<style scoped>\n",
              "    .dataframe tbody tr th:only-of-type {\n",
              "        vertical-align: middle;\n",
              "    }\n",
              "\n",
              "    .dataframe tbody tr th {\n",
              "        vertical-align: top;\n",
              "    }\n",
              "\n",
              "    .dataframe thead th {\n",
              "        text-align: right;\n",
              "    }\n",
              "</style>\n",
              "<table border=\"1\" class=\"dataframe\">\n",
              "  <thead>\n",
              "    <tr style=\"text-align: right;\">\n",
              "      <th></th>\n",
              "      <th>DATETIME</th>\n",
              "      <th>SYSTEM_PRICE</th>\n",
              "    </tr>\n",
              "  </thead>\n",
              "  <tbody>\n",
              "    <tr>\n",
              "      <th>count</th>\n",
              "      <td>325824</td>\n",
              "      <td>325824.000000</td>\n",
              "    </tr>\n",
              "    <tr>\n",
              "      <th>mean</th>\n",
              "      <td>2014-07-17 23:45:00.000001280</td>\n",
              "      <td>11.286967</td>\n",
              "    </tr>\n",
              "    <tr>\n",
              "      <th>min</th>\n",
              "      <td>2005-04-02 00:00:00</td>\n",
              "      <td>0.010000</td>\n",
              "    </tr>\n",
              "    <tr>\n",
              "      <th>25%</th>\n",
              "      <td>2009-11-23 23:52:30</td>\n",
              "      <td>7.120000</td>\n",
              "    </tr>\n",
              "    <tr>\n",
              "      <th>50%</th>\n",
              "      <td>2014-07-17 23:45:00</td>\n",
              "      <td>9.680000</td>\n",
              "    </tr>\n",
              "    <tr>\n",
              "      <th>75%</th>\n",
              "      <td>2019-03-10 23:37:30</td>\n",
              "      <td>13.790000</td>\n",
              "    </tr>\n",
              "    <tr>\n",
              "      <th>max</th>\n",
              "      <td>2023-11-01 23:30:00</td>\n",
              "      <td>251.000000</td>\n",
              "    </tr>\n",
              "    <tr>\n",
              "      <th>std</th>\n",
              "      <td>NaN</td>\n",
              "      <td>7.911367</td>\n",
              "    </tr>\n",
              "  </tbody>\n",
              "</table>\n",
              "</div>"
            ],
            "text/plain": [
              "                            DATETIME   SYSTEM_PRICE\n",
              "count                         325824  325824.000000\n",
              "mean   2014-07-17 23:45:00.000001280      11.286967\n",
              "min              2005-04-02 00:00:00       0.010000\n",
              "25%              2009-11-23 23:52:30       7.120000\n",
              "50%              2014-07-17 23:45:00       9.680000\n",
              "75%              2019-03-10 23:37:30      13.790000\n",
              "max              2023-11-01 23:30:00     251.000000\n",
              "std                              NaN       7.911367"
            ]
          },
          "execution_count": 72,
          "metadata": {},
          "output_type": "execute_result"
        }
      ],
      "source": [
        "jepx.describe()"
      ]
    },
    {
      "cell_type": "code",
      "execution_count": null,
      "metadata": {},
      "outputs": [],
      "source": [
        "# jepx.drop([\"conversionType\", \"conversionSymbol\"], axis = 'columns', inplace = True)"
      ]
    },
    {
      "cell_type": "code",
      "execution_count": null,
      "metadata": {},
      "outputs": [],
      "source": [
        "# jepx = jepx[['DATE','TIME','SYSTEM_PRICE','HOKKAIDO','TOHOKU','TOKYO','CHUBU','HOKURIKU','KANSAI','CHUGOKU','SHIKOKU','KYUSHU']]"
      ]
    },
    {
      "cell_type": "code",
      "execution_count": null,
      "metadata": {},
      "outputs": [],
      "source": [
        "# jepx = jepx[['DATETIME','SYSTEM_PRICE','BUY_VOLUME']]"
      ]
    },
    {
      "cell_type": "code",
      "execution_count": 74,
      "metadata": {},
      "outputs": [],
      "source": [
        "jepx = jepx.dropna()\n",
        "# jepx.fillna()"
      ]
    },
    {
      "cell_type": "code",
      "execution_count": 79,
      "metadata": {},
      "outputs": [],
      "source": [
        "target_sysprice = 'SYSTEM_PRICE'"
      ]
    },
    {
      "cell_type": "code",
      "execution_count": 80,
      "metadata": {},
      "outputs": [
        {
          "data": {
            "text/html": [
              "<div>\n",
              "<style scoped>\n",
              "    .dataframe tbody tr th:only-of-type {\n",
              "        vertical-align: middle;\n",
              "    }\n",
              "\n",
              "    .dataframe tbody tr th {\n",
              "        vertical-align: top;\n",
              "    }\n",
              "\n",
              "    .dataframe thead th {\n",
              "        text-align: right;\n",
              "    }\n",
              "</style>\n",
              "<table border=\"1\" class=\"dataframe\">\n",
              "  <thead>\n",
              "    <tr style=\"text-align: right;\">\n",
              "      <th></th>\n",
              "      <th>DATETIME</th>\n",
              "      <th>SYSTEM_PRICE</th>\n",
              "    </tr>\n",
              "  </thead>\n",
              "  <tbody>\n",
              "    <tr>\n",
              "      <th>0</th>\n",
              "      <td>2005-04-02 00:00:00</td>\n",
              "      <td>6.71</td>\n",
              "    </tr>\n",
              "    <tr>\n",
              "      <th>1</th>\n",
              "      <td>2005-04-02 00:30:00</td>\n",
              "      <td>6.65</td>\n",
              "    </tr>\n",
              "    <tr>\n",
              "      <th>2</th>\n",
              "      <td>2005-04-02 01:00:00</td>\n",
              "      <td>6.39</td>\n",
              "    </tr>\n",
              "    <tr>\n",
              "      <th>3</th>\n",
              "      <td>2005-04-02 01:30:00</td>\n",
              "      <td>6.39</td>\n",
              "    </tr>\n",
              "    <tr>\n",
              "      <th>4</th>\n",
              "      <td>2005-04-02 02:00:00</td>\n",
              "      <td>5.68</td>\n",
              "    </tr>\n",
              "    <tr>\n",
              "      <th>...</th>\n",
              "      <td>...</td>\n",
              "      <td>...</td>\n",
              "    </tr>\n",
              "    <tr>\n",
              "      <th>325819</th>\n",
              "      <td>2023-11-01 21:30:00</td>\n",
              "      <td>13.91</td>\n",
              "    </tr>\n",
              "    <tr>\n",
              "      <th>325820</th>\n",
              "      <td>2023-11-01 22:00:00</td>\n",
              "      <td>13.14</td>\n",
              "    </tr>\n",
              "    <tr>\n",
              "      <th>325821</th>\n",
              "      <td>2023-11-01 22:30:00</td>\n",
              "      <td>12.75</td>\n",
              "    </tr>\n",
              "    <tr>\n",
              "      <th>325822</th>\n",
              "      <td>2023-11-01 23:00:00</td>\n",
              "      <td>12.60</td>\n",
              "    </tr>\n",
              "    <tr>\n",
              "      <th>325823</th>\n",
              "      <td>2023-11-01 23:30:00</td>\n",
              "      <td>11.69</td>\n",
              "    </tr>\n",
              "  </tbody>\n",
              "</table>\n",
              "<p>325824 rows × 2 columns</p>\n",
              "</div>"
            ],
            "text/plain": [
              "                  DATETIME  SYSTEM_PRICE\n",
              "0      2005-04-02 00:00:00          6.71\n",
              "1      2005-04-02 00:30:00          6.65\n",
              "2      2005-04-02 01:00:00          6.39\n",
              "3      2005-04-02 01:30:00          6.39\n",
              "4      2005-04-02 02:00:00          5.68\n",
              "...                    ...           ...\n",
              "325819 2023-11-01 21:30:00         13.91\n",
              "325820 2023-11-01 22:00:00         13.14\n",
              "325821 2023-11-01 22:30:00         12.75\n",
              "325822 2023-11-01 23:00:00         12.60\n",
              "325823 2023-11-01 23:30:00         11.69\n",
              "\n",
              "[325824 rows x 2 columns]"
            ]
          },
          "execution_count": 80,
          "metadata": {},
          "output_type": "execute_result"
        }
      ],
      "source": [
        "jepx"
      ]
    },
    {
      "cell_type": "code",
      "execution_count": null,
      "metadata": {},
      "outputs": [],
      "source": [
        "# sns.lmplot(x='BUY_VOLUME', y=target_sysprice, data=jepx, ci=None,scatter_kws={'alpha': 0.4},line_kws={'color':'orange'})"
      ]
    },
    {
      "cell_type": "code",
      "execution_count": null,
      "metadata": {
        "id": "uwdfRPuNh93m"
      },
      "outputs": [],
      "source": [
        "# jepx.drop([\"DATE\", \"TIME\"], axis = 'columns', inplace = True)"
      ]
    },
    {
      "cell_type": "code",
      "execution_count": 78,
      "metadata": {},
      "outputs": [
        {
          "ename": "KeyError",
          "evalue": "\"['DATE'] not found in axis\"",
          "output_type": "error",
          "traceback": [
            "\u001b[1;31m---------------------------------------------------------------------------\u001b[0m",
            "\u001b[1;31mKeyError\u001b[0m                                  Traceback (most recent call last)",
            "\u001b[1;32mc:\\Users\\Administrator\\Projectbanpu\\PredictCryptoLSTM (mei).ipynb Cell 22\u001b[0m line \u001b[0;36m1\n\u001b[1;32m----> <a href='vscode-notebook-cell:/c%3A/Users/Administrator/Projectbanpu/PredictCryptoLSTM%20%28mei%29.ipynb#X22sZmlsZQ%3D%3D?line=0'>1</a>\u001b[0m jepx\u001b[39m.\u001b[39;49mdrop([\u001b[39m\"\u001b[39;49m\u001b[39mDATE\u001b[39;49m\u001b[39m\"\u001b[39;49m], axis \u001b[39m=\u001b[39;49m \u001b[39m'\u001b[39;49m\u001b[39mcolumns\u001b[39;49m\u001b[39m'\u001b[39;49m, inplace \u001b[39m=\u001b[39;49m \u001b[39mTrue\u001b[39;49;00m)\n",
            "File \u001b[1;32mc:\\Program Files\\Python311\\Lib\\site-packages\\pandas\\core\\frame.py:5344\u001b[0m, in \u001b[0;36mDataFrame.drop\u001b[1;34m(self, labels, axis, index, columns, level, inplace, errors)\u001b[0m\n\u001b[0;32m   5196\u001b[0m \u001b[39mdef\u001b[39;00m \u001b[39mdrop\u001b[39m(\n\u001b[0;32m   5197\u001b[0m     \u001b[39mself\u001b[39m,\n\u001b[0;32m   5198\u001b[0m     labels: IndexLabel \u001b[39m|\u001b[39m \u001b[39mNone\u001b[39;00m \u001b[39m=\u001b[39m \u001b[39mNone\u001b[39;00m,\n\u001b[1;32m   (...)\u001b[0m\n\u001b[0;32m   5205\u001b[0m     errors: IgnoreRaise \u001b[39m=\u001b[39m \u001b[39m\"\u001b[39m\u001b[39mraise\u001b[39m\u001b[39m\"\u001b[39m,\n\u001b[0;32m   5206\u001b[0m ) \u001b[39m-\u001b[39m\u001b[39m>\u001b[39m DataFrame \u001b[39m|\u001b[39m \u001b[39mNone\u001b[39;00m:\n\u001b[0;32m   5207\u001b[0m \u001b[39m    \u001b[39m\u001b[39m\"\"\"\u001b[39;00m\n\u001b[0;32m   5208\u001b[0m \u001b[39m    Drop specified labels from rows or columns.\u001b[39;00m\n\u001b[0;32m   5209\u001b[0m \n\u001b[1;32m   (...)\u001b[0m\n\u001b[0;32m   5342\u001b[0m \u001b[39m            weight  1.0     0.8\u001b[39;00m\n\u001b[0;32m   5343\u001b[0m \u001b[39m    \"\"\"\u001b[39;00m\n\u001b[1;32m-> 5344\u001b[0m     \u001b[39mreturn\u001b[39;00m \u001b[39msuper\u001b[39;49m()\u001b[39m.\u001b[39;49mdrop(\n\u001b[0;32m   5345\u001b[0m         labels\u001b[39m=\u001b[39;49mlabels,\n\u001b[0;32m   5346\u001b[0m         axis\u001b[39m=\u001b[39;49maxis,\n\u001b[0;32m   5347\u001b[0m         index\u001b[39m=\u001b[39;49mindex,\n\u001b[0;32m   5348\u001b[0m         columns\u001b[39m=\u001b[39;49mcolumns,\n\u001b[0;32m   5349\u001b[0m         level\u001b[39m=\u001b[39;49mlevel,\n\u001b[0;32m   5350\u001b[0m         inplace\u001b[39m=\u001b[39;49minplace,\n\u001b[0;32m   5351\u001b[0m         errors\u001b[39m=\u001b[39;49merrors,\n\u001b[0;32m   5352\u001b[0m     )\n",
            "File \u001b[1;32mc:\\Program Files\\Python311\\Lib\\site-packages\\pandas\\core\\generic.py:4711\u001b[0m, in \u001b[0;36mNDFrame.drop\u001b[1;34m(self, labels, axis, index, columns, level, inplace, errors)\u001b[0m\n\u001b[0;32m   4709\u001b[0m \u001b[39mfor\u001b[39;00m axis, labels \u001b[39min\u001b[39;00m axes\u001b[39m.\u001b[39mitems():\n\u001b[0;32m   4710\u001b[0m     \u001b[39mif\u001b[39;00m labels \u001b[39mis\u001b[39;00m \u001b[39mnot\u001b[39;00m \u001b[39mNone\u001b[39;00m:\n\u001b[1;32m-> 4711\u001b[0m         obj \u001b[39m=\u001b[39m obj\u001b[39m.\u001b[39;49m_drop_axis(labels, axis, level\u001b[39m=\u001b[39;49mlevel, errors\u001b[39m=\u001b[39;49merrors)\n\u001b[0;32m   4713\u001b[0m \u001b[39mif\u001b[39;00m inplace:\n\u001b[0;32m   4714\u001b[0m     \u001b[39mself\u001b[39m\u001b[39m.\u001b[39m_update_inplace(obj)\n",
            "File \u001b[1;32mc:\\Program Files\\Python311\\Lib\\site-packages\\pandas\\core\\generic.py:4753\u001b[0m, in \u001b[0;36mNDFrame._drop_axis\u001b[1;34m(self, labels, axis, level, errors, only_slice)\u001b[0m\n\u001b[0;32m   4751\u001b[0m         new_axis \u001b[39m=\u001b[39m axis\u001b[39m.\u001b[39mdrop(labels, level\u001b[39m=\u001b[39mlevel, errors\u001b[39m=\u001b[39merrors)\n\u001b[0;32m   4752\u001b[0m     \u001b[39melse\u001b[39;00m:\n\u001b[1;32m-> 4753\u001b[0m         new_axis \u001b[39m=\u001b[39m axis\u001b[39m.\u001b[39;49mdrop(labels, errors\u001b[39m=\u001b[39;49merrors)\n\u001b[0;32m   4754\u001b[0m     indexer \u001b[39m=\u001b[39m axis\u001b[39m.\u001b[39mget_indexer(new_axis)\n\u001b[0;32m   4756\u001b[0m \u001b[39m# Case for non-unique axis\u001b[39;00m\n\u001b[0;32m   4757\u001b[0m \u001b[39melse\u001b[39;00m:\n",
            "File \u001b[1;32mc:\\Program Files\\Python311\\Lib\\site-packages\\pandas\\core\\indexes\\base.py:6992\u001b[0m, in \u001b[0;36mIndex.drop\u001b[1;34m(self, labels, errors)\u001b[0m\n\u001b[0;32m   6990\u001b[0m \u001b[39mif\u001b[39;00m mask\u001b[39m.\u001b[39many():\n\u001b[0;32m   6991\u001b[0m     \u001b[39mif\u001b[39;00m errors \u001b[39m!=\u001b[39m \u001b[39m\"\u001b[39m\u001b[39mignore\u001b[39m\u001b[39m\"\u001b[39m:\n\u001b[1;32m-> 6992\u001b[0m         \u001b[39mraise\u001b[39;00m \u001b[39mKeyError\u001b[39;00m(\u001b[39mf\u001b[39m\u001b[39m\"\u001b[39m\u001b[39m{\u001b[39;00mlabels[mask]\u001b[39m.\u001b[39mtolist()\u001b[39m}\u001b[39;00m\u001b[39m not found in axis\u001b[39m\u001b[39m\"\u001b[39m)\n\u001b[0;32m   6993\u001b[0m     indexer \u001b[39m=\u001b[39m indexer[\u001b[39m~\u001b[39mmask]\n\u001b[0;32m   6994\u001b[0m \u001b[39mreturn\u001b[39;00m \u001b[39mself\u001b[39m\u001b[39m.\u001b[39mdelete(indexer)\n",
            "\u001b[1;31mKeyError\u001b[0m: \"['DATE'] not found in axis\""
          ]
        }
      ],
      "source": [
        "jepx.drop([\"DATE\"], axis = 'columns', inplace = True)"
      ]
    },
    {
      "cell_type": "code",
      "execution_count": null,
      "metadata": {
        "colab": {
          "base_uri": "https://localhost:8080/",
          "height": 237
        },
        "id": "DjCH-OL8iAlA",
        "outputId": "37d401d1-9862-4bab-8c11-07f0aa053733"
      },
      "outputs": [],
      "source": [
        "hist = jepx"
      ]
    },
    {
      "cell_type": "code",
      "execution_count": null,
      "metadata": {
        "colab": {
          "base_uri": "https://localhost:8080/"
        },
        "id": "yxGOiIaKqBiF",
        "outputId": "1610af96-1503-4490-9681-f2fef087cd66"
      },
      "outputs": [],
      "source": [
        "# hist.info()"
      ]
    },
    {
      "cell_type": "code",
      "execution_count": null,
      "metadata": {
        "colab": {
          "base_uri": "https://localhost:8080/",
          "height": 300
        },
        "id": "BmkSe5vtqLxX",
        "outputId": "4b73bb2b-f9df-408d-f3aa-5f7f665eaba2"
      },
      "outputs": [],
      "source": [
        "# hist.describe()"
      ]
    },
    {
      "cell_type": "markdown",
      "metadata": {
        "id": "Tn7SLDiDfuVm"
      },
      "source": [
        "ถัดไปจะแบ่ง ข้อมูลเป็น 2 ส่วน \n",
        "training set 80% กับ test set 20%\n",
        "แต่โดยทั่วไป การแบ่งข้อมูลมักแบ่งเป็นสามส่วน คือ  training, validation, testing (ส่วนสัด 60%, 20%, 20% ตามลำดับ).\n"
      ]
    },
    {
      "cell_type": "code",
      "execution_count": null,
      "metadata": {
        "id": "46tGLqbUiEtQ"
      },
      "outputs": [],
      "source": [
        "def train_test_split(df, test_size=0.2):\n",
        "    split_row = len(df) - int(test_size * len(df))\n",
        "    train_data = df.iloc[:split_row]\n",
        "    test_data = df.iloc[split_row:]\n",
        "    return train_data, test_data"
      ]
    },
    {
      "cell_type": "code",
      "execution_count": null,
      "metadata": {
        "id": "qk7_UFsPkX6I"
      },
      "outputs": [],
      "source": [
        "# train, test = train_test_split(hist, test_size=0.2)"
      ]
    },
    {
      "cell_type": "code",
      "execution_count": null,
      "metadata": {},
      "outputs": [],
      "source": [
        "train_jepx, test_jepx = train_test_split(jepx, test_size=0.2)"
      ]
    },
    {
      "cell_type": "code",
      "execution_count": null,
      "metadata": {},
      "outputs": [],
      "source": [
        "test_jepx"
      ]
    },
    {
      "cell_type": "markdown",
      "metadata": {
        "id": "pNy2pwxIfxKA"
      },
      "source": [
        "พร็อตกราฟราคาในหน่วย USD "
      ]
    },
    {
      "cell_type": "code",
      "execution_count": null,
      "metadata": {
        "id": "l9jalL4ikbLg"
      },
      "outputs": [],
      "source": [
        "def line_plot(line1, line2, label1=None, label2=None, title='', lw=1):\n",
        "    fig, ax = plt.subplots(1, figsize=(13, 7))\n",
        "    ax.plot(line1, label=label1, linewidth=lw)\n",
        "    ax.plot(line2, label=label2, linewidth=lw)\n",
        "    ax.set_ylabel('price [USD]', fontsize=14)\n",
        "    ax.set_title(title, fontsize=16)\n",
        "    ax.legend(loc='best', fontsize=16);"
      ]
    },
    {
      "cell_type": "code",
      "execution_count": null,
      "metadata": {
        "colab": {
          "base_uri": "https://localhost:8080/",
          "height": 428
        },
        "collapsed": true,
        "id": "qwHYSZWukczI",
        "outputId": "66f6375d-e50b-4481-a6e2-4839ea66d9fa"
      },
      "outputs": [],
      "source": [
        "#@title\n",
        "# line_plot(train[target_col], test[target_col], 'training', 'test', title='')"
      ]
    },
    {
      "cell_type": "markdown",
      "metadata": {
        "id": "FV6eSBB2f1ZA"
      },
      "source": [
        "ทำการ normalize ค่า เพื่อทำให้ค่าตัวเลขอยู่ในช่วงที่เหมาะสม ง่ายต่อการคำนวณ แต่ข้อมูลจะไม่ถูกบิดเบือน"
      ]
    },
    {
      "cell_type": "code",
      "execution_count": null,
      "metadata": {},
      "outputs": [],
      "source": [
        "#@title\n",
        "line_plot(train_jepx['SYSTEM_PRICE'], test_jepx['SYSTEM_PRICE'], 'training', 'test', title='')"
      ]
    },
    {
      "cell_type": "code",
      "execution_count": null,
      "metadata": {},
      "outputs": [],
      "source": [
        "jepx.describe()"
      ]
    },
    {
      "cell_type": "code",
      "execution_count": null,
      "metadata": {
        "id": "F0PWzkYFkfdA"
      },
      "outputs": [],
      "source": [
        "def normalise_zero_base(df):\n",
        "    return df \n",
        "\n",
        "def normalise_min_max(df):\n",
        "    return (df - df.min()) / (data.max() - df.min())"
      ]
    },
    {
      "cell_type": "code",
      "execution_count": null,
      "metadata": {
        "id": "Dt8Q2_ERk5So"
      },
      "outputs": [],
      "source": [
        "def extract_window_data(df, window_len=5, zero_base=True):\n",
        "    window_data = []\n",
        "    for idx in range(len(df) - window_len):\n",
        "        tmp = df[idx: (idx + window_len)].copy()\n",
        "        if zero_base:\n",
        "            tmp = normalise_zero_base(tmp)\n",
        "        window_data.append(tmp.values)\n",
        "    return np.array(window_data)"
      ]
    },
    {
      "cell_type": "code",
      "execution_count": null,
      "metadata": {
        "id": "Z2RcjY1ek9S4"
      },
      "outputs": [],
      "source": [
        "def prepare_data(df, target_sysprice, window_len=10, zero_base=True, test_size=0.2):\n",
        "    train_data, test_data = train_test_split(df, test_size=test_size)\n",
        "    X_train = extract_window_data(train_data, window_len, zero_base)\n",
        "    X_test = extract_window_data(test_data, window_len, zero_base)\n",
        "    y_train = train_data[target_sysprice][window_len:].values\n",
        "    y_test = test_data[target_sysprice][window_len:].values\n",
        "    if zero_base:\n",
        "        y_train = y_train / train_data[target_sysprice][:-window_len].values - 1\n",
        "        y_test = y_test / test_data[target_sysprice][:-window_len].values - 1\n",
        "\n",
        "    return train_data, test_data, X_train, X_test, y_train, y_test"
      ]
    },
    {
      "cell_type": "markdown",
      "metadata": {
        "id": "pVRypY4pf6oD"
      },
      "source": [
        "#LSTM\n",
        "ทำงานโดยใช้เกตพิเศษเพื่อให้แต่ละเลเยอร์ LSTM รับข้อมูลจากทั้งเลเยอร์ก่อนหน้าและเลเยอร์ปัจจุบัน \n",
        "ข้อมูลต้องผ่านหลายเกต (เช่น forget gate, input gate ฯลฯ) และฟังก์ชัน activation ต่างๆ (เช่น ฟังก์ชัน tanh ฟังก์ชัน relu)\n",
        "\n",
        "ข้อได้เปรียบหลักของสิ่งนี้คือช่วยให้เซลล์ LSTM แต่ละเซลล์จำรูปแบบได้เป็นระยะเวลาหนึ่ง\n",
        "\n",
        "สิ่งที่ควรสังเกตคือ LSTM สามารถจดจำข้อมูลสำคัญและในขณะเดียวกันก็ลืมข้อมูลที่ไม่เกี่ยวข้อง\n",
        "\n",
        "\n"
      ]
    },
    {
      "cell_type": "markdown",
      "metadata": {
        "id": "25C4_KCHhQQg"
      },
      "source": [
        "ตอนนี้เรามาสร้างโมเดลกัน \n",
        "โมเดลตาใช้เลเยอร์ทั้งหมด (อินพุต hidden และเอาต์พุต) โครงข่ายประสาทเทียมประกอบด้วยเลเยอร์ LSTM \n",
        "ตามด้วยเลเยอร์ Dense พร้อมฟังก์ชัน activation แบบ linear \n",
        "\n",
        "คอมไฟล์ ด้วย loss แบบ Mean Squared Error\n",
        "และ optimizer แบบ adam\n"
      ]
    },
    {
      "cell_type": "code",
      "execution_count": null,
      "metadata": {
        "id": "HZ-u-TGplGNa"
      },
      "outputs": [],
      "source": [
        "def build_lstm_model(input_data, output_size, neurons=100, activ_func='linear',\n",
        "                     dropout=0.2, loss='mse', optimizer='adam'):\n",
        "    model = Sequential()\n",
        "    model.add(LSTM(neurons, input_shape=(input_data.shape[1], input_data.shape[2])))\n",
        "    model.add(Dropout(dropout))\n",
        "    model.add(Dense(units=output_size))\n",
        "    model.add(Activation(activ_func))\n",
        "\n",
        "    model.compile(loss=loss, optimizer=optimizer)\n",
        "    return model"
      ]
    },
    {
      "cell_type": "markdown",
      "metadata": {
        "id": "WpDgZKYGg87d"
      },
      "source": [
        "กำหนดค่าพารามิเตอร์ที่จะต้องใช้ "
      ]
    },
    {
      "cell_type": "code",
      "execution_count": null,
      "metadata": {
        "id": "k8uwECzHlrj3"
      },
      "outputs": [],
      "source": [
        "np.random.seed(42)\n",
        "window_len = 5\n",
        "test_size = 0.2\n",
        "zero_base = True\n",
        "lstm_neurons = 100\n",
        "epochs = 5\n",
        "batch_size = 32\n",
        "loss = 'mse'\n",
        "dropout = 0.2\n",
        "optimizer = 'adam'"
      ]
    },
    {
      "cell_type": "markdown",
      "metadata": {
        "id": "VHp7TFbeh6Fd"
      },
      "source": [
        "แบ่ง ข้อมูลเป็น X_train, X_test, y_train, y_test"
      ]
    },
    {
      "cell_type": "code",
      "execution_count": null,
      "metadata": {
        "id": "h4-B5h5zlxYY"
      },
      "outputs": [],
      "source": [
        "# train, test, X_train, X_test, y_train, y_test = prepare_data(\n",
        "#     hist, target_col, window_len=window_len, zero_base=zero_base, test_size=test_size)"
      ]
    },
    {
      "cell_type": "code",
      "execution_count": null,
      "metadata": {},
      "outputs": [],
      "source": [
        "train, test, X_train, X_test, y_train, y_test = prepare_data(\n",
        "    jepx, target_sysprice, window_len=window_len, zero_base=zero_base, test_size=test_size)"
      ]
    },
    {
      "cell_type": "markdown",
      "metadata": {
        "id": "8pSS4gkbiCql"
      },
      "source": [
        "สร้างโมเดล"
      ]
    },
    {
      "cell_type": "code",
      "execution_count": null,
      "metadata": {
        "colab": {
          "base_uri": "https://localhost:8080/"
        },
        "id": "UTEnMUbQl2_g",
        "outputId": "1d8955f5-f3cf-4c10-971f-1140e5d99a8e"
      },
      "outputs": [],
      "source": [
        "model = build_lstm_model(\n",
        "    X_train, output_size=1, neurons=lstm_neurons, dropout=dropout, loss=loss,\n",
        "    optimizer=optimizer)\n",
        "history = model.fit(\n",
        "    X_train, y_train, validation_data=(X_test, y_test), epochs=epochs, batch_size=batch_size, verbose=1, shuffle=True)"
      ]
    },
    {
      "cell_type": "code",
      "execution_count": null,
      "metadata": {
        "colab": {
          "base_uri": "https://localhost:8080/",
          "height": 295
        },
        "id": "VGZYgruBl7JB",
        "outputId": "d4575e5d-c64e-47d7-a68f-3ffa1eac0629"
      },
      "outputs": [],
      "source": [
        "import matplotlib.pyplot as plt\n",
        "plt.plot(history.history['loss'],'r',linewidth=2, label='Train loss')\n",
        "plt.plot(history.history['val_loss'], 'g',linewidth=2, label='Validation loss')\n",
        "plt.title('LSTM')\n",
        "plt.xlabel('Epochs')\n",
        "plt.ylabel('MSE')\n",
        "plt.show()"
      ]
    },
    {
      "cell_type": "code",
      "execution_count": null,
      "metadata": {},
      "outputs": [],
      "source": [
        "jepx.info()"
      ]
    },
    {
      "cell_type": "code",
      "execution_count": null,
      "metadata": {
        "colab": {
          "base_uri": "https://localhost:8080/"
        },
        "id": "_gbhlY4LmMNp",
        "outputId": "6f3f1037-1694-4535-d887-c8ae09870965"
      },
      "outputs": [],
      "source": [
        "targets = test[target_sysprice][window_len:]\n",
        "preds = model.predict(X_test).squeeze()\n",
        "mean_absolute_error(preds, y_test)"
      ]
    },
    {
      "cell_type": "code",
      "execution_count": null,
      "metadata": {
        "colab": {
          "base_uri": "https://localhost:8080/"
        },
        "id": "Mawdtf3GmUWB",
        "outputId": "b00d0254-09f6-435c-e993-2050c1b873c1"
      },
      "outputs": [],
      "source": [
        "from sklearn.metrics import mean_squared_error\n",
        "MAE=mean_squared_error(preds, y_test)\n",
        "MAE"
      ]
    },
    {
      "cell_type": "code",
      "execution_count": null,
      "metadata": {
        "colab": {
          "base_uri": "https://localhost:8080/"
        },
        "id": "EYzFiX0MmYsw",
        "outputId": "0117909a-0871-4788-9701-270281a2364d"
      },
      "outputs": [],
      "source": [
        "from sklearn.metrics import r2_score\n",
        "R2=r2_score(y_test, preds)\n",
        "R2"
      ]
    },
    {
      "cell_type": "code",
      "execution_count": null,
      "metadata": {
        "id": "hYt-OvuFocYV"
      },
      "outputs": [],
      "source": []
    }
  ],
  "metadata": {
    "colab": {
      "collapsed_sections": [],
      "name": "PredictCryptoLSTM.ipynb",
      "provenance": []
    },
    "kernelspec": {
      "display_name": "Python 3.10.1 ('my_pymatgen')",
      "language": "python",
      "name": "python3"
    },
    "language_info": {
      "codemirror_mode": {
        "name": "ipython",
        "version": 3
      },
      "file_extension": ".py",
      "mimetype": "text/x-python",
      "name": "python",
      "nbconvert_exporter": "python",
      "pygments_lexer": "ipython3",
      "version": "3.11.5"
    },
    "vscode": {
      "interpreter": {
        "hash": "ecfbe9831ff937316415d4a4799757d930f8019e23f2310a3cdbcd74e8994908"
      }
    }
  },
  "nbformat": 4,
  "nbformat_minor": 0
}
